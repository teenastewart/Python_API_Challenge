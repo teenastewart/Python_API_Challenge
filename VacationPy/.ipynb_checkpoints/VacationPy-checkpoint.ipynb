{
 "cells": [
  {
   "cell_type": "markdown",
   "metadata": {},
   "source": [
    "# VacationPy\n",
    "----\n",
    "\n",
    "#### Note\n",
    "* Keep an eye on your API usage. Use https://developers.google.com/maps/reporting/gmp-reporting as reference for how to monitor your usage and billing.\n",
    "\n",
    "* Instructions have been included for each segment. You do not have to follow them exactly, but they are included to help you think through the steps."
   ]
  },
  {
   "cell_type": "code",
   "execution_count": 1,
   "metadata": {},
   "outputs": [],
   "source": [
    "# Dependencies and Setup\n",
    "import matplotlib.pyplot as plt\n",
    "import pandas as pd\n",
    "import numpy as np\n",
    "import requests\n",
    "import gmaps\n",
    "import os\n",
    "\n",
    "# Import API key\n",
    "from config import g_key"
   ]
  },
  {
   "cell_type": "markdown",
   "metadata": {},
   "source": [
    "### Store Part I results into DataFrame\n",
    "* Load the csv exported in Part I to a DataFrame"
   ]
  },
  {
   "cell_type": "code",
   "execution_count": 80,
   "metadata": {},
   "outputs": [
    {
     "data": {
      "text/html": [
       "<div>\n",
       "<style scoped>\n",
       "    .dataframe tbody tr th:only-of-type {\n",
       "        vertical-align: middle;\n",
       "    }\n",
       "\n",
       "    .dataframe tbody tr th {\n",
       "        vertical-align: top;\n",
       "    }\n",
       "\n",
       "    .dataframe thead th {\n",
       "        text-align: right;\n",
       "    }\n",
       "</style>\n",
       "<table border=\"1\" class=\"dataframe\">\n",
       "  <thead>\n",
       "    <tr style=\"text-align: right;\">\n",
       "      <th></th>\n",
       "      <th>city</th>\n",
       "      <th>country</th>\n",
       "      <th>lat</th>\n",
       "      <th>lng</th>\n",
       "      <th>max_temp</th>\n",
       "      <th>humidity</th>\n",
       "      <th>cloudiness</th>\n",
       "      <th>wind_speed</th>\n",
       "      <th>date</th>\n",
       "    </tr>\n",
       "  </thead>\n",
       "  <tbody>\n",
       "    <tr>\n",
       "      <th>0</th>\n",
       "      <td>Susanville</td>\n",
       "      <td>US</td>\n",
       "      <td>40</td>\n",
       "      <td>-120</td>\n",
       "      <td>71</td>\n",
       "      <td>6</td>\n",
       "      <td>1</td>\n",
       "      <td>3</td>\n",
       "      <td>1619655810</td>\n",
       "    </tr>\n",
       "    <tr>\n",
       "      <th>1</th>\n",
       "      <td>Port Alfred</td>\n",
       "      <td>ZA</td>\n",
       "      <td>-33</td>\n",
       "      <td>26</td>\n",
       "      <td>66</td>\n",
       "      <td>79</td>\n",
       "      <td>98</td>\n",
       "      <td>8</td>\n",
       "      <td>1619655836</td>\n",
       "    </tr>\n",
       "    <tr>\n",
       "      <th>2</th>\n",
       "      <td>Rikitea</td>\n",
       "      <td>PF</td>\n",
       "      <td>-23</td>\n",
       "      <td>-134</td>\n",
       "      <td>76</td>\n",
       "      <td>66</td>\n",
       "      <td>41</td>\n",
       "      <td>10</td>\n",
       "      <td>1619655836</td>\n",
       "    </tr>\n",
       "    <tr>\n",
       "      <th>3</th>\n",
       "      <td>Korgen</td>\n",
       "      <td>NO</td>\n",
       "      <td>66</td>\n",
       "      <td>13</td>\n",
       "      <td>35</td>\n",
       "      <td>73</td>\n",
       "      <td>91</td>\n",
       "      <td>2</td>\n",
       "      <td>1619655836</td>\n",
       "    </tr>\n",
       "    <tr>\n",
       "      <th>4</th>\n",
       "      <td>Albany</td>\n",
       "      <td>US</td>\n",
       "      <td>42</td>\n",
       "      <td>-73</td>\n",
       "      <td>57</td>\n",
       "      <td>86</td>\n",
       "      <td>96</td>\n",
       "      <td>2</td>\n",
       "      <td>1619655837</td>\n",
       "    </tr>\n",
       "  </tbody>\n",
       "</table>\n",
       "</div>"
      ],
      "text/plain": [
       "          city country  lat  lng  max_temp  humidity  cloudiness  wind_speed  \\\n",
       "0   Susanville      US   40 -120        71         6           1           3   \n",
       "1  Port Alfred      ZA  -33   26        66        79          98           8   \n",
       "2      Rikitea      PF  -23 -134        76        66          41          10   \n",
       "3       Korgen      NO   66   13        35        73          91           2   \n",
       "4       Albany      US   42  -73        57        86          96           2   \n",
       "\n",
       "         date  \n",
       "0  1619655810  \n",
       "1  1619655836  \n",
       "2  1619655836  \n",
       "3  1619655836  \n",
       "4  1619655837  "
      ]
     },
     "execution_count": 80,
     "metadata": {},
     "output_type": "execute_result"
    }
   ],
   "source": [
    "file = \"../WeatherPy/weather_data.csv\"\n",
    "weather_df = pd.read_csv(file)\n",
    "weather_df[[\"lat\", \"lng\", \"max_temp\", \"humidity\", \"cloudiness\", \"wind_speed\", \"date\"]] = weather_df[[\"lat\", \"lng\", \"max_temp\", \"humidity\", \"cloudiness\", \"wind_speed\", \"date\"]].astype(int)\n",
    "\n",
    "weather_df.head()\n"
   ]
  },
  {
   "cell_type": "markdown",
   "metadata": {},
   "source": [
    "### Humidity Heatmap\n",
    "* Configure gmaps.\n",
    "* Use the Lat and Lng as locations and Humidity as the weight.\n",
    "* Add Heatmap layer to map."
   ]
  },
  {
   "cell_type": "code",
   "execution_count": 146,
   "metadata": {},
   "outputs": [
    {
     "data": {
      "application/vnd.jupyter.widget-view+json": {
       "model_id": "f3f481ec08664d008a7939f2bf78a5fd",
       "version_major": 2,
       "version_minor": 0
      },
      "text/plain": [
       "Figure(layout=FigureLayout(height='420px'))"
      ]
     },
     "metadata": {},
     "output_type": "display_data"
    }
   ],
   "source": [
    "gmaps.configure(api_key=g_key)\n",
    "\n",
    "# Store 'Lat' and 'Lng' into  locations \n",
    "locations = weather_df[[\"lat\", \"lng\"]].astype(float)\n",
    "\n",
    "# Convert Poverty Rate to float and store\n",
    "# HINT: be sure to handle NaN values\n",
    "weather_df_complete = weather_df.dropna()\n",
    "humidity = weather_df[\"humidity\"].astype(float)\n",
    "\n",
    "fig = gmaps.figure(center=(46.0, -5.0), zoom_level=2)\n",
    "\n",
    "heat_layer = gmaps.heatmap_layer(locations, weights=humidity, \n",
    "                                 dissipating=False, max_intensity=100,\n",
    "                                 point_radius = 1)\n",
    "\n",
    "fig.add_layer(heat_layer)\n",
    "\n",
    "fig"
   ]
  },
  {
   "cell_type": "markdown",
   "metadata": {},
   "source": [
    "### Create new DataFrame fitting weather criteria\n",
    "* Narrow down the cities to fit weather conditions.\n",
    "* Drop any rows will null values."
   ]
  },
  {
   "cell_type": "code",
   "execution_count": 140,
   "metadata": {},
   "outputs": [
    {
     "name": "stdout",
     "output_type": "stream",
     "text": [
      "            city country  lat  lng  max_temp  humidity  cloudiness  \\\n",
      "10    Codrington      AU  -38  141        61        60          10   \n",
      "38          Nome      US   64 -165        33        60          40   \n",
      "97     Kirovskiy      RU   45  133        51        49           1   \n",
      "102      Aklavik      CA   68 -135        39        48           9   \n",
      "120        Ginda      IN   30   78        58        36           2   \n",
      "168    Fairbanks      US   64 -147        52        23           1   \n",
      "215        Kenai      US   60 -151        55        38           1   \n",
      "254      Ushtobe      KZ   45   77        62        42           0   \n",
      "340     Hereford      GB   52   -2        39        59          46   \n",
      "364    Kyzyl-Suu      KG   42   78        50        43           0   \n",
      "371       Lenger      KZ   42   69        59        58           0   \n",
      "439     Matagami      CA   49  -77        55        24           1   \n",
      "451        Altay      CN   47   88        52        55          49   \n",
      "464  Fort Nelson      CA   58 -122        37        35          20   \n",
      "508      Birjand      IR   32   59        60        31          40   \n",
      "\n",
      "     wind_speed        date  \n",
      "10            7  1619655839  \n",
      "38            8  1619655847  \n",
      "97            6  1619655865  \n",
      "102           8  1619655867  \n",
      "120           8  1619655873  \n",
      "168           3  1619655887  \n",
      "215           9  1619655902  \n",
      "254           3  1619655915  \n",
      "340           6  1619655703  \n",
      "364           8  1619655948  \n",
      "371           4  1619655950  \n",
      "439           4  1619655972  \n",
      "451           6  1619655975  \n",
      "464           5  1619655979  \n",
      "508           6  1619655993  \n"
     ]
    }
   ],
   "source": [
    "choice_city = weather_df.loc[(weather_df[\"max_temp\"] <= 62) & (\n",
    "    weather_df[\"wind_speed\"] <= 10) & (\n",
    "    weather_df[\"humidity\"] <= 60) & (\n",
    "    weather_df[\"cloudiness\"] <= 50) & (\n",
    "    weather_df[\"country\"].notna()), :]\n",
    "print(choice_city)"
   ]
  },
  {
   "cell_type": "markdown",
   "metadata": {},
   "source": [
    "### Hotel Map\n",
    "* Store into variable named `hotel_df`.\n",
    "* Add a \"Hotel Name\" column to the DataFrame.\n",
    "* Set parameters to search for hotels with 5000 meters.\n",
    "* Hit the Google Places API for each city's coordinates.\n",
    "* Store the first Hotel result into the DataFrame.\n",
    "* Plot markers on top of the heatmap."
   ]
  },
  {
   "cell_type": "code",
   "execution_count": 144,
   "metadata": {},
   "outputs": [
    {
     "data": {
      "text/html": [
       "<div>\n",
       "<style scoped>\n",
       "    .dataframe tbody tr th:only-of-type {\n",
       "        vertical-align: middle;\n",
       "    }\n",
       "\n",
       "    .dataframe tbody tr th {\n",
       "        vertical-align: top;\n",
       "    }\n",
       "\n",
       "    .dataframe thead th {\n",
       "        text-align: right;\n",
       "    }\n",
       "</style>\n",
       "<table border=\"1\" class=\"dataframe\">\n",
       "  <thead>\n",
       "    <tr style=\"text-align: right;\">\n",
       "      <th></th>\n",
       "      <th>city</th>\n",
       "      <th>country</th>\n",
       "      <th>lat</th>\n",
       "      <th>lng</th>\n",
       "      <th>max_temp</th>\n",
       "      <th>humidity</th>\n",
       "      <th>cloudiness</th>\n",
       "      <th>wind_speed</th>\n",
       "      <th>date</th>\n",
       "      <th>Hotel Name</th>\n",
       "    </tr>\n",
       "  </thead>\n",
       "  <tbody>\n",
       "    <tr>\n",
       "      <th>10</th>\n",
       "      <td>Codrington</td>\n",
       "      <td>AU</td>\n",
       "      <td>-38</td>\n",
       "      <td>141</td>\n",
       "      <td>61</td>\n",
       "      <td>60</td>\n",
       "      <td>10</td>\n",
       "      <td>7</td>\n",
       "      <td>1619655839</td>\n",
       "      <td></td>\n",
       "    </tr>\n",
       "    <tr>\n",
       "      <th>38</th>\n",
       "      <td>Nome</td>\n",
       "      <td>US</td>\n",
       "      <td>64</td>\n",
       "      <td>-165</td>\n",
       "      <td>33</td>\n",
       "      <td>60</td>\n",
       "      <td>40</td>\n",
       "      <td>8</td>\n",
       "      <td>1619655847</td>\n",
       "      <td></td>\n",
       "    </tr>\n",
       "    <tr>\n",
       "      <th>97</th>\n",
       "      <td>Kirovskiy</td>\n",
       "      <td>RU</td>\n",
       "      <td>45</td>\n",
       "      <td>133</td>\n",
       "      <td>51</td>\n",
       "      <td>49</td>\n",
       "      <td>1</td>\n",
       "      <td>6</td>\n",
       "      <td>1619655865</td>\n",
       "      <td></td>\n",
       "    </tr>\n",
       "    <tr>\n",
       "      <th>102</th>\n",
       "      <td>Aklavik</td>\n",
       "      <td>CA</td>\n",
       "      <td>68</td>\n",
       "      <td>-135</td>\n",
       "      <td>39</td>\n",
       "      <td>48</td>\n",
       "      <td>9</td>\n",
       "      <td>8</td>\n",
       "      <td>1619655867</td>\n",
       "      <td></td>\n",
       "    </tr>\n",
       "    <tr>\n",
       "      <th>120</th>\n",
       "      <td>Ginda</td>\n",
       "      <td>IN</td>\n",
       "      <td>30</td>\n",
       "      <td>78</td>\n",
       "      <td>58</td>\n",
       "      <td>36</td>\n",
       "      <td>2</td>\n",
       "      <td>8</td>\n",
       "      <td>1619655873</td>\n",
       "      <td></td>\n",
       "    </tr>\n",
       "  </tbody>\n",
       "</table>\n",
       "</div>"
      ],
      "text/plain": [
       "           city country  lat  lng  max_temp  humidity  cloudiness  wind_speed  \\\n",
       "10   Codrington      AU  -38  141        61        60          10           7   \n",
       "38         Nome      US   64 -165        33        60          40           8   \n",
       "97    Kirovskiy      RU   45  133        51        49           1           6   \n",
       "102     Aklavik      CA   68 -135        39        48           9           8   \n",
       "120       Ginda      IN   30   78        58        36           2           8   \n",
       "\n",
       "           date Hotel Name  \n",
       "10   1619655839             \n",
       "38   1619655847             \n",
       "97   1619655865             \n",
       "102  1619655867             \n",
       "120  1619655873             "
      ]
     },
     "execution_count": 144,
     "metadata": {},
     "output_type": "execute_result"
    }
   ],
   "source": [
    "hotel_df = pd.DataFrame(choice_city)\n",
    "hotel_df['Hotel Name'] = ''\n",
    "hotel_df.head()"
   ]
  },
  {
   "cell_type": "code",
   "execution_count": null,
   "metadata": {},
   "outputs": [],
   "source": []
  },
  {
   "cell_type": "code",
   "execution_count": null,
   "metadata": {},
   "outputs": [],
   "source": [
    "# NOTE: Do not change any of the code in this cell\n",
    "\n",
    "# Using the template add the hotel marks to the heatmap\n",
    "info_box_template = \"\"\"\n",
    "<dl>\n",
    "<dt>Name</dt><dd>{Hotel Name}</dd>\n",
    "<dt>City</dt><dd>{City}</dd>\n",
    "<dt>Country</dt><dd>{Country}</dd>\n",
    "</dl>\n",
    "\"\"\"\n",
    "# Store the DataFrame Row\n",
    "# NOTE: be sure to update with your DataFrame name\n",
    "hotel_info = [info_box_template.format(**row) for index, row in hotel_df.iterrows()]\n",
    "locations = hotel_df[[\"Lat\", \"Lng\"]]"
   ]
  },
  {
   "cell_type": "code",
   "execution_count": null,
   "metadata": {},
   "outputs": [],
   "source": [
    "# Add marker layer ontop of heat map\n",
    "\n",
    "\n",
    "# Display figure\n"
   ]
  },
  {
   "cell_type": "code",
   "execution_count": null,
   "metadata": {},
   "outputs": [],
   "source": []
  }
 ],
 "metadata": {
  "kernelspec": {
   "display_name": "Python 3",
   "language": "python",
   "name": "python3"
  },
  "language_info": {
   "codemirror_mode": {
    "name": "ipython",
    "version": 3
   },
   "file_extension": ".py",
   "mimetype": "text/x-python",
   "name": "python",
   "nbconvert_exporter": "python",
   "pygments_lexer": "ipython3",
   "version": "3.8.5"
  },
  "latex_envs": {
   "LaTeX_envs_menu_present": true,
   "autoclose": false,
   "autocomplete": true,
   "bibliofile": "biblio.bib",
   "cite_by": "apalike",
   "current_citInitial": 1,
   "eqLabelWithNumbers": true,
   "eqNumInitial": 1,
   "hotkeys": {
    "equation": "Ctrl-E",
    "itemize": "Ctrl-I"
   },
   "labels_anchors": false,
   "latex_user_defs": false,
   "report_style_numbering": false,
   "user_envs_cfg": false
  }
 },
 "nbformat": 4,
 "nbformat_minor": 4
}
